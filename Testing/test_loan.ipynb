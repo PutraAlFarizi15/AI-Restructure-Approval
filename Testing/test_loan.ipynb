{
 "cells": [
  {
   "cell_type": "code",
   "execution_count": 11,
   "metadata": {},
   "outputs": [],
   "source": [
    "import pandas as pd\n",
    "import joblib"
   ]
  },
  {
   "cell_type": "code",
   "execution_count": 12,
   "metadata": {},
   "outputs": [
    {
     "name": "stdout",
     "output_type": "stream",
     "text": [
      "<class 'pandas.core.frame.DataFrame'>\n",
      "RangeIndex: 3777 entries, 0 to 3776\n",
      "Data columns (total 29 columns):\n",
      " #   Column                          Non-Null Count  Dtype  \n",
      "---  ------                          --------------  -----  \n",
      " 0   debtor_nik                      3777 non-null   int64  \n",
      " 1   debtor_name                     3777 non-null   object \n",
      " 2   debtor_gender                   3777 non-null   object \n",
      " 3   debtor_birth_place              3777 non-null   object \n",
      " 4   debtor_address                  3777 non-null   object \n",
      " 5   debtor_zip                      3777 non-null   int64  \n",
      " 6   debtor_rt                       3777 non-null   int64  \n",
      " 7   debtor_rw                       3777 non-null   int64  \n",
      " 8   debtor_marital_status           3777 non-null   object \n",
      " 9   debtor_company                  3777 non-null   object \n",
      " 10  debtor_number                   3777 non-null   object \n",
      " 11  debtor_id                       3777 non-null   int64  \n",
      " 12  debtor_age                      3777 non-null   int64  \n",
      " 13  debtor_occupation               3777 non-null   object \n",
      " 14  monthly_income                  3777 non-null   int64  \n",
      " 15  debt                            3777 non-null   float64\n",
      " 16  dti                             3777 non-null   float64\n",
      " 17  monthly_expenses                3777 non-null   int64  \n",
      " 18  net_income                      3777 non-null   int64  \n",
      " 19  previous_credit_monthly_income  3777 non-null   int64  \n",
      " 20  financial_changes               3777 non-null   int64  \n",
      " 21  business_conditions             3777 non-null   int64  \n",
      " 22  asset_value                     3777 non-null   int64  \n",
      " 23  interest_rate                   3777 non-null   float64\n",
      " 24  collateral                      3777 non-null   int64  \n",
      " 25  old_collateral                  3777 non-null   int64  \n",
      " 26  ltv                             3777 non-null   float64\n",
      " 27  tenor                           3777 non-null   int64  \n",
      " 28  loan_amount                     3777 non-null   float64\n",
      "dtypes: float64(5), int64(16), object(8)\n",
      "memory usage: 855.9+ KB\n"
     ]
    }
   ],
   "source": [
    "df = pd.read_csv('../data/Dataset Request Loan 05102023.csv')\n",
    "df.info()"
   ]
  },
  {
   "cell_type": "code",
   "execution_count": 13,
   "metadata": {},
   "outputs": [
    {
     "data": {
      "text/plain": [
       "76245000.0"
      ]
     },
     "execution_count": 13,
     "metadata": {},
     "output_type": "execute_result"
    }
   ],
   "source": [
    "df['loan_amount'].iloc[0]"
   ]
  },
  {
   "cell_type": "code",
   "execution_count": 14,
   "metadata": {},
   "outputs": [
    {
     "name": "stdout",
     "output_type": "stream",
     "text": [
      "Data has been saved to the JSON file: data_loan.json\n"
     ]
    }
   ],
   "source": [
    "import json\n",
    "\n",
    "# Assuming test_data is a dictionary\n",
    "test_data = df.iloc[0].drop('loan_amount', axis=0).to_dict()\n",
    "\n",
    "# Specify the file name where you want to save the JSON data\n",
    "file_name = 'data_loan.json'\n",
    "\n",
    "# Writing the dictionary to a JSON file using json.dump()\n",
    "with open(file_name, 'w') as file:\n",
    "    json.dump(test_data, file)\n",
    "\n",
    "print(f'Data has been saved to the JSON file: {file_name}')\n"
   ]
  },
  {
   "cell_type": "code",
   "execution_count": 15,
   "metadata": {},
   "outputs": [
    {
     "data": {
      "text/plain": [
       "{'debtor_nik': 4133431716345918,\n",
       " 'debtor_name': 'Cemplunk Zulaika',\n",
       " 'debtor_gender': 'perempuan',\n",
       " 'debtor_birth_place': 'Bengkulu, 23-09-1997',\n",
       " 'debtor_address': 'Jalan Raya Setiabudhi No. 857\\nBanjarbaru, KR 12188',\n",
       " 'debtor_zip': 12188,\n",
       " 'debtor_rt': 6,\n",
       " 'debtor_rw': 10,\n",
       " 'debtor_marital_status': 'Menikah',\n",
       " 'debtor_company': 'CV Nugroho Melani (Persero) Tbk',\n",
       " 'debtor_number': '+62 (102) 776 3467',\n",
       " 'debtor_id': 180034427373791,\n",
       " 'debtor_age': 32,\n",
       " 'debtor_occupation': 'Pengusaha',\n",
       " 'monthly_income': 50100000,\n",
       " 'debt': 7925000.0,\n",
       " 'dti': 0.1581836327345309,\n",
       " 'monthly_expenses': 3100000,\n",
       " 'net_income': 47000000,\n",
       " 'previous_credit_monthly_income': 26900000,\n",
       " 'financial_changes': 23200000,\n",
       " 'business_conditions': 35,\n",
       " 'asset_value': 89500000,\n",
       " 'interest_rate': 11.101694915254235,\n",
       " 'collateral': 52600000,\n",
       " 'old_collateral': 32800000,\n",
       " 'ltv': 0.8927985948477751,\n",
       " 'tenor': 164}"
      ]
     },
     "execution_count": 15,
     "metadata": {},
     "output_type": "execute_result"
    }
   ],
   "source": [
    "with open('data_loan.json', 'r') as file:\n",
    "    json_data = json.load(file)\n",
    "json_data"
   ]
  },
  {
   "cell_type": "code",
   "execution_count": 16,
   "metadata": {},
   "outputs": [
    {
     "data": {
      "text/html": [
       "<div>\n",
       "<style scoped>\n",
       "    .dataframe tbody tr th:only-of-type {\n",
       "        vertical-align: middle;\n",
       "    }\n",
       "\n",
       "    .dataframe tbody tr th {\n",
       "        vertical-align: top;\n",
       "    }\n",
       "\n",
       "    .dataframe thead th {\n",
       "        text-align: right;\n",
       "    }\n",
       "</style>\n",
       "<table border=\"1\" class=\"dataframe\">\n",
       "  <thead>\n",
       "    <tr style=\"text-align: right;\">\n",
       "      <th></th>\n",
       "      <th>debtor_nik</th>\n",
       "      <th>debtor_name</th>\n",
       "      <th>debtor_gender</th>\n",
       "      <th>debtor_birth_place</th>\n",
       "      <th>debtor_address</th>\n",
       "      <th>debtor_zip</th>\n",
       "      <th>debtor_rt</th>\n",
       "      <th>debtor_rw</th>\n",
       "      <th>debtor_marital_status</th>\n",
       "      <th>debtor_company</th>\n",
       "      <th>...</th>\n",
       "      <th>net_income</th>\n",
       "      <th>previous_credit_monthly_income</th>\n",
       "      <th>financial_changes</th>\n",
       "      <th>business_conditions</th>\n",
       "      <th>asset_value</th>\n",
       "      <th>interest_rate</th>\n",
       "      <th>collateral</th>\n",
       "      <th>old_collateral</th>\n",
       "      <th>ltv</th>\n",
       "      <th>tenor</th>\n",
       "    </tr>\n",
       "  </thead>\n",
       "  <tbody>\n",
       "    <tr>\n",
       "      <th>0</th>\n",
       "      <td>4133431716345918</td>\n",
       "      <td>Cemplunk Zulaika</td>\n",
       "      <td>perempuan</td>\n",
       "      <td>Bengkulu, 23-09-1997</td>\n",
       "      <td>Jalan Raya Setiabudhi No. 857\\nBanjarbaru, KR ...</td>\n",
       "      <td>12188</td>\n",
       "      <td>6</td>\n",
       "      <td>10</td>\n",
       "      <td>Menikah</td>\n",
       "      <td>CV Nugroho Melani (Persero) Tbk</td>\n",
       "      <td>...</td>\n",
       "      <td>47000000</td>\n",
       "      <td>26900000</td>\n",
       "      <td>23200000</td>\n",
       "      <td>35</td>\n",
       "      <td>89500000</td>\n",
       "      <td>11.101695</td>\n",
       "      <td>52600000</td>\n",
       "      <td>32800000</td>\n",
       "      <td>0.892799</td>\n",
       "      <td>164</td>\n",
       "    </tr>\n",
       "  </tbody>\n",
       "</table>\n",
       "<p>1 rows × 28 columns</p>\n",
       "</div>"
      ],
      "text/plain": [
       "         debtor_nik       debtor_name debtor_gender    debtor_birth_place  \\\n",
       "0  4133431716345918  Cemplunk Zulaika     perempuan  Bengkulu, 23-09-1997   \n",
       "\n",
       "                                      debtor_address  debtor_zip  debtor_rt  \\\n",
       "0  Jalan Raya Setiabudhi No. 857\\nBanjarbaru, KR ...       12188          6   \n",
       "\n",
       "   debtor_rw debtor_marital_status                   debtor_company  ...  \\\n",
       "0         10               Menikah  CV Nugroho Melani (Persero) Tbk  ...   \n",
       "\n",
       "  net_income  previous_credit_monthly_income  financial_changes  \\\n",
       "0   47000000                        26900000           23200000   \n",
       "\n",
       "  business_conditions  asset_value  interest_rate  collateral  old_collateral  \\\n",
       "0                  35     89500000      11.101695    52600000        32800000   \n",
       "\n",
       "        ltv  tenor  \n",
       "0  0.892799    164  \n",
       "\n",
       "[1 rows x 28 columns]"
      ]
     },
     "execution_count": 16,
     "metadata": {},
     "output_type": "execute_result"
    }
   ],
   "source": [
    "df = pd.DataFrame.from_dict([json_data])\n",
    "df"
   ]
  },
  {
   "cell_type": "code",
   "execution_count": 17,
   "metadata": {},
   "outputs": [
    {
     "data": {
      "text/html": [
       "<style>#sk-container-id-1 {color: black;background-color: white;}#sk-container-id-1 pre{padding: 0;}#sk-container-id-1 div.sk-toggleable {background-color: white;}#sk-container-id-1 label.sk-toggleable__label {cursor: pointer;display: block;width: 100%;margin-bottom: 0;padding: 0.3em;box-sizing: border-box;text-align: center;}#sk-container-id-1 label.sk-toggleable__label-arrow:before {content: \"▸\";float: left;margin-right: 0.25em;color: #696969;}#sk-container-id-1 label.sk-toggleable__label-arrow:hover:before {color: black;}#sk-container-id-1 div.sk-estimator:hover label.sk-toggleable__label-arrow:before {color: black;}#sk-container-id-1 div.sk-toggleable__content {max-height: 0;max-width: 0;overflow: hidden;text-align: left;background-color: #f0f8ff;}#sk-container-id-1 div.sk-toggleable__content pre {margin: 0.2em;color: black;border-radius: 0.25em;background-color: #f0f8ff;}#sk-container-id-1 input.sk-toggleable__control:checked~div.sk-toggleable__content {max-height: 200px;max-width: 100%;overflow: auto;}#sk-container-id-1 input.sk-toggleable__control:checked~label.sk-toggleable__label-arrow:before {content: \"▾\";}#sk-container-id-1 div.sk-estimator input.sk-toggleable__control:checked~label.sk-toggleable__label {background-color: #d4ebff;}#sk-container-id-1 div.sk-label input.sk-toggleable__control:checked~label.sk-toggleable__label {background-color: #d4ebff;}#sk-container-id-1 input.sk-hidden--visually {border: 0;clip: rect(1px 1px 1px 1px);clip: rect(1px, 1px, 1px, 1px);height: 1px;margin: -1px;overflow: hidden;padding: 0;position: absolute;width: 1px;}#sk-container-id-1 div.sk-estimator {font-family: monospace;background-color: #f0f8ff;border: 1px dotted black;border-radius: 0.25em;box-sizing: border-box;margin-bottom: 0.5em;}#sk-container-id-1 div.sk-estimator:hover {background-color: #d4ebff;}#sk-container-id-1 div.sk-parallel-item::after {content: \"\";width: 100%;border-bottom: 1px solid gray;flex-grow: 1;}#sk-container-id-1 div.sk-label:hover label.sk-toggleable__label {background-color: #d4ebff;}#sk-container-id-1 div.sk-serial::before {content: \"\";position: absolute;border-left: 1px solid gray;box-sizing: border-box;top: 0;bottom: 0;left: 50%;z-index: 0;}#sk-container-id-1 div.sk-serial {display: flex;flex-direction: column;align-items: center;background-color: white;padding-right: 0.2em;padding-left: 0.2em;position: relative;}#sk-container-id-1 div.sk-item {position: relative;z-index: 1;}#sk-container-id-1 div.sk-parallel {display: flex;align-items: stretch;justify-content: center;background-color: white;position: relative;}#sk-container-id-1 div.sk-item::before, #sk-container-id-1 div.sk-parallel-item::before {content: \"\";position: absolute;border-left: 1px solid gray;box-sizing: border-box;top: 0;bottom: 0;left: 50%;z-index: -1;}#sk-container-id-1 div.sk-parallel-item {display: flex;flex-direction: column;z-index: 1;position: relative;background-color: white;}#sk-container-id-1 div.sk-parallel-item:first-child::after {align-self: flex-end;width: 50%;}#sk-container-id-1 div.sk-parallel-item:last-child::after {align-self: flex-start;width: 50%;}#sk-container-id-1 div.sk-parallel-item:only-child::after {width: 0;}#sk-container-id-1 div.sk-dashed-wrapped {border: 1px dashed gray;margin: 0 0.4em 0.5em 0.4em;box-sizing: border-box;padding-bottom: 0.4em;background-color: white;}#sk-container-id-1 div.sk-label label {font-family: monospace;font-weight: bold;display: inline-block;line-height: 1.2em;}#sk-container-id-1 div.sk-label-container {text-align: center;}#sk-container-id-1 div.sk-container {/* jupyter's `normalize.less` sets `[hidden] { display: none; }` but bootstrap.min.css set `[hidden] { display: none !important; }` so we also need the `!important` here to be able to override the default hidden behavior on the sphinx rendered scikit-learn.org. See: https://github.com/scikit-learn/scikit-learn/issues/21755 */display: inline-block !important;position: relative;}#sk-container-id-1 div.sk-text-repr-fallback {display: none;}</style><div id=\"sk-container-id-1\" class=\"sk-top-container\"><div class=\"sk-text-repr-fallback\"><pre>Pipeline(steps=[(&#x27;preprocessing&#x27;,\n",
       "                 ColumnTransformer(transformers=[(&#x27;numerical&#x27;,\n",
       "                                                  Pipeline(steps=[(&#x27;standar_scaler&#x27;,\n",
       "                                                                   StandardScaler())]),\n",
       "                                                  [&#x27;monthly_income&#x27;, &#x27;debt&#x27;,\n",
       "                                                   &#x27;dti&#x27;, &#x27;monthly_expenses&#x27;,\n",
       "                                                   &#x27;net_income&#x27;,\n",
       "                                                   &#x27;financial_changes&#x27;,\n",
       "                                                   &#x27;asset_value&#x27;,\n",
       "                                                   &#x27;interest_rate&#x27;,\n",
       "                                                   &#x27;collateral&#x27;,\n",
       "                                                   &#x27;old_collateral&#x27;, &#x27;ltv&#x27;,\n",
       "                                                   &#x27;tenor&#x27;]),\n",
       "                                                 (&#x27;categorical&#x27;,\n",
       "                                                  Pipeline(steps=[(&#x27;Ordinal&#x27;,\n",
       "                                                                   OrdinalEncoder())]),\n",
       "                                                  [&#x27;debtor_occupation&#x27;])])),\n",
       "                (&#x27;model&#x27;, OrthogonalMatchingPursuitCV())])</pre><b>In a Jupyter environment, please rerun this cell to show the HTML representation or trust the notebook. <br />On GitHub, the HTML representation is unable to render, please try loading this page with nbviewer.org.</b></div><div class=\"sk-container\" hidden><div class=\"sk-item sk-dashed-wrapped\"><div class=\"sk-label-container\"><div class=\"sk-label sk-toggleable\"><input class=\"sk-toggleable__control sk-hidden--visually\" id=\"sk-estimator-id-1\" type=\"checkbox\" ><label for=\"sk-estimator-id-1\" class=\"sk-toggleable__label sk-toggleable__label-arrow\">Pipeline</label><div class=\"sk-toggleable__content\"><pre>Pipeline(steps=[(&#x27;preprocessing&#x27;,\n",
       "                 ColumnTransformer(transformers=[(&#x27;numerical&#x27;,\n",
       "                                                  Pipeline(steps=[(&#x27;standar_scaler&#x27;,\n",
       "                                                                   StandardScaler())]),\n",
       "                                                  [&#x27;monthly_income&#x27;, &#x27;debt&#x27;,\n",
       "                                                   &#x27;dti&#x27;, &#x27;monthly_expenses&#x27;,\n",
       "                                                   &#x27;net_income&#x27;,\n",
       "                                                   &#x27;financial_changes&#x27;,\n",
       "                                                   &#x27;asset_value&#x27;,\n",
       "                                                   &#x27;interest_rate&#x27;,\n",
       "                                                   &#x27;collateral&#x27;,\n",
       "                                                   &#x27;old_collateral&#x27;, &#x27;ltv&#x27;,\n",
       "                                                   &#x27;tenor&#x27;]),\n",
       "                                                 (&#x27;categorical&#x27;,\n",
       "                                                  Pipeline(steps=[(&#x27;Ordinal&#x27;,\n",
       "                                                                   OrdinalEncoder())]),\n",
       "                                                  [&#x27;debtor_occupation&#x27;])])),\n",
       "                (&#x27;model&#x27;, OrthogonalMatchingPursuitCV())])</pre></div></div></div><div class=\"sk-serial\"><div class=\"sk-item sk-dashed-wrapped\"><div class=\"sk-label-container\"><div class=\"sk-label sk-toggleable\"><input class=\"sk-toggleable__control sk-hidden--visually\" id=\"sk-estimator-id-2\" type=\"checkbox\" ><label for=\"sk-estimator-id-2\" class=\"sk-toggleable__label sk-toggleable__label-arrow\">preprocessing: ColumnTransformer</label><div class=\"sk-toggleable__content\"><pre>ColumnTransformer(transformers=[(&#x27;numerical&#x27;,\n",
       "                                 Pipeline(steps=[(&#x27;standar_scaler&#x27;,\n",
       "                                                  StandardScaler())]),\n",
       "                                 [&#x27;monthly_income&#x27;, &#x27;debt&#x27;, &#x27;dti&#x27;,\n",
       "                                  &#x27;monthly_expenses&#x27;, &#x27;net_income&#x27;,\n",
       "                                  &#x27;financial_changes&#x27;, &#x27;asset_value&#x27;,\n",
       "                                  &#x27;interest_rate&#x27;, &#x27;collateral&#x27;,\n",
       "                                  &#x27;old_collateral&#x27;, &#x27;ltv&#x27;, &#x27;tenor&#x27;]),\n",
       "                                (&#x27;categorical&#x27;,\n",
       "                                 Pipeline(steps=[(&#x27;Ordinal&#x27;,\n",
       "                                                  OrdinalEncoder())]),\n",
       "                                 [&#x27;debtor_occupation&#x27;])])</pre></div></div></div><div class=\"sk-parallel\"><div class=\"sk-parallel-item\"><div class=\"sk-item\"><div class=\"sk-label-container\"><div class=\"sk-label sk-toggleable\"><input class=\"sk-toggleable__control sk-hidden--visually\" id=\"sk-estimator-id-3\" type=\"checkbox\" ><label for=\"sk-estimator-id-3\" class=\"sk-toggleable__label sk-toggleable__label-arrow\">numerical</label><div class=\"sk-toggleable__content\"><pre>[&#x27;monthly_income&#x27;, &#x27;debt&#x27;, &#x27;dti&#x27;, &#x27;monthly_expenses&#x27;, &#x27;net_income&#x27;, &#x27;financial_changes&#x27;, &#x27;asset_value&#x27;, &#x27;interest_rate&#x27;, &#x27;collateral&#x27;, &#x27;old_collateral&#x27;, &#x27;ltv&#x27;, &#x27;tenor&#x27;]</pre></div></div></div><div class=\"sk-serial\"><div class=\"sk-item\"><div class=\"sk-serial\"><div class=\"sk-item\"><div class=\"sk-estimator sk-toggleable\"><input class=\"sk-toggleable__control sk-hidden--visually\" id=\"sk-estimator-id-4\" type=\"checkbox\" ><label for=\"sk-estimator-id-4\" class=\"sk-toggleable__label sk-toggleable__label-arrow\">StandardScaler</label><div class=\"sk-toggleable__content\"><pre>StandardScaler()</pre></div></div></div></div></div></div></div></div><div class=\"sk-parallel-item\"><div class=\"sk-item\"><div class=\"sk-label-container\"><div class=\"sk-label sk-toggleable\"><input class=\"sk-toggleable__control sk-hidden--visually\" id=\"sk-estimator-id-5\" type=\"checkbox\" ><label for=\"sk-estimator-id-5\" class=\"sk-toggleable__label sk-toggleable__label-arrow\">categorical</label><div class=\"sk-toggleable__content\"><pre>[&#x27;debtor_occupation&#x27;]</pre></div></div></div><div class=\"sk-serial\"><div class=\"sk-item\"><div class=\"sk-serial\"><div class=\"sk-item\"><div class=\"sk-estimator sk-toggleable\"><input class=\"sk-toggleable__control sk-hidden--visually\" id=\"sk-estimator-id-6\" type=\"checkbox\" ><label for=\"sk-estimator-id-6\" class=\"sk-toggleable__label sk-toggleable__label-arrow\">OrdinalEncoder</label><div class=\"sk-toggleable__content\"><pre>OrdinalEncoder()</pre></div></div></div></div></div></div></div></div></div></div><div class=\"sk-item\"><div class=\"sk-estimator sk-toggleable\"><input class=\"sk-toggleable__control sk-hidden--visually\" id=\"sk-estimator-id-7\" type=\"checkbox\" ><label for=\"sk-estimator-id-7\" class=\"sk-toggleable__label sk-toggleable__label-arrow\">OrthogonalMatchingPursuitCV</label><div class=\"sk-toggleable__content\"><pre>OrthogonalMatchingPursuitCV()</pre></div></div></div></div></div></div></div>"
      ],
      "text/plain": [
       "Pipeline(steps=[('preprocessing',\n",
       "                 ColumnTransformer(transformers=[('numerical',\n",
       "                                                  Pipeline(steps=[('standar_scaler',\n",
       "                                                                   StandardScaler())]),\n",
       "                                                  ['monthly_income', 'debt',\n",
       "                                                   'dti', 'monthly_expenses',\n",
       "                                                   'net_income',\n",
       "                                                   'financial_changes',\n",
       "                                                   'asset_value',\n",
       "                                                   'interest_rate',\n",
       "                                                   'collateral',\n",
       "                                                   'old_collateral', 'ltv',\n",
       "                                                   'tenor']),\n",
       "                                                 ('categorical',\n",
       "                                                  Pipeline(steps=[('Ordinal',\n",
       "                                                                   OrdinalEncoder())]),\n",
       "                                                  ['debtor_occupation'])])),\n",
       "                ('model', OrthogonalMatchingPursuitCV())])"
      ]
     },
     "execution_count": 17,
     "metadata": {},
     "output_type": "execute_result"
    }
   ],
   "source": [
    "model = joblib.load('../model/rl_pipeline.joblib')\n",
    "model"
   ]
  },
  {
   "cell_type": "code",
   "execution_count": 18,
   "metadata": {},
   "outputs": [
    {
     "data": {
      "text/plain": [
       "76244999.99999997"
      ]
     },
     "execution_count": 18,
     "metadata": {},
     "output_type": "execute_result"
    }
   ],
   "source": [
    "model.predict(df)[0]"
   ]
  },
  {
   "cell_type": "code",
   "execution_count": 27,
   "metadata": {},
   "outputs": [
    {
     "name": "stdout",
     "output_type": "stream",
     "text": [
      "<class 'pandas.core.frame.DataFrame'>\n",
      "RangeIndex: 1 entries, 0 to 0\n",
      "Data columns (total 13 columns):\n",
      " #   Column             Non-Null Count  Dtype  \n",
      "---  ------             --------------  -----  \n",
      " 0   monthly_income     1 non-null      int64  \n",
      " 1   debt               1 non-null      float64\n",
      " 2   dti                1 non-null      float64\n",
      " 3   monthly_expenses   1 non-null      int64  \n",
      " 4   net_income         1 non-null      int64  \n",
      " 5   financial_changes  1 non-null      int64  \n",
      " 6   asset_value        1 non-null      int64  \n",
      " 7   interest_rate      1 non-null      float64\n",
      " 8   collateral         1 non-null      int64  \n",
      " 9   old_collateral     1 non-null      int64  \n",
      " 10  ltv                1 non-null      float64\n",
      " 11  debtor_occupation  1 non-null      object \n",
      " 12  tenor              1 non-null      int64  \n",
      "dtypes: float64(4), int64(8), object(1)\n",
      "memory usage: 232.0+ bytes\n"
     ]
    }
   ],
   "source": [
    "select_column = ['monthly_income', 'debt', 'dti', 'monthly_expenses',\n",
    "                'net_income',\n",
    "                'financial_changes', 'asset_value',\n",
    "                'interest_rate', 'collateral','old_collateral', 'ltv',\n",
    "                'debtor_occupation', 'tenor']\n",
    "df = df[select_column].copy()\n",
    "df.info()"
   ]
  },
  {
   "cell_type": "code",
   "execution_count": 28,
   "metadata": {},
   "outputs": [],
   "source": [
    "numerical_loan = ['monthly_income', 'debt', 'dti', 'monthly_expenses',\n",
    "                'net_income',\n",
    "                'financial_changes', 'asset_value',\n",
    "                'interest_rate', 'collateral','old_collateral', 'ltv',\n",
    "                'tenor']\n",
    "\n",
    "categorical_loan = ['debtor_occupation']"
   ]
  },
  {
   "cell_type": "code",
   "execution_count": 29,
   "metadata": {},
   "outputs": [],
   "source": [
    "import joblib\n",
    "model = joblib.load('../model/rl_best_model.joblib')\n",
    "scaler = joblib.load('../model/rl_scaler.joblib')\n",
    "encoder = joblib.load('../model/rl_encoder.joblib')"
   ]
  },
  {
   "cell_type": "code",
   "execution_count": 30,
   "metadata": {},
   "outputs": [
    {
     "data": {
      "text/html": [
       "<div>\n",
       "<style scoped>\n",
       "    .dataframe tbody tr th:only-of-type {\n",
       "        vertical-align: middle;\n",
       "    }\n",
       "\n",
       "    .dataframe tbody tr th {\n",
       "        vertical-align: top;\n",
       "    }\n",
       "\n",
       "    .dataframe thead th {\n",
       "        text-align: right;\n",
       "    }\n",
       "</style>\n",
       "<table border=\"1\" class=\"dataframe\">\n",
       "  <thead>\n",
       "    <tr style=\"text-align: right;\">\n",
       "      <th></th>\n",
       "      <th>monthly_income</th>\n",
       "      <th>debt</th>\n",
       "      <th>dti</th>\n",
       "      <th>monthly_expenses</th>\n",
       "      <th>net_income</th>\n",
       "      <th>financial_changes</th>\n",
       "      <th>asset_value</th>\n",
       "      <th>interest_rate</th>\n",
       "      <th>collateral</th>\n",
       "      <th>old_collateral</th>\n",
       "      <th>ltv</th>\n",
       "      <th>debtor_occupation</th>\n",
       "      <th>tenor</th>\n",
       "    </tr>\n",
       "  </thead>\n",
       "  <tbody>\n",
       "    <tr>\n",
       "      <th>0</th>\n",
       "      <td>50100000</td>\n",
       "      <td>7925000.0</td>\n",
       "      <td>0.158184</td>\n",
       "      <td>3100000</td>\n",
       "      <td>47000000</td>\n",
       "      <td>23200000</td>\n",
       "      <td>89500000</td>\n",
       "      <td>11.101695</td>\n",
       "      <td>52600000</td>\n",
       "      <td>32800000</td>\n",
       "      <td>0.892799</td>\n",
       "      <td>Pengusaha</td>\n",
       "      <td>164</td>\n",
       "    </tr>\n",
       "  </tbody>\n",
       "</table>\n",
       "</div>"
      ],
      "text/plain": [
       "   monthly_income       debt       dti  monthly_expenses  net_income  \\\n",
       "0        50100000  7925000.0  0.158184           3100000    47000000   \n",
       "\n",
       "   financial_changes  asset_value  interest_rate  collateral  old_collateral  \\\n",
       "0           23200000     89500000      11.101695    52600000        32800000   \n",
       "\n",
       "        ltv debtor_occupation  tenor  \n",
       "0  0.892799         Pengusaha    164  "
      ]
     },
     "execution_count": 30,
     "metadata": {},
     "output_type": "execute_result"
    }
   ],
   "source": [
    "df"
   ]
  },
  {
   "cell_type": "code",
   "execution_count": 31,
   "metadata": {},
   "outputs": [
    {
     "data": {
      "text/html": [
       "<div>\n",
       "<style scoped>\n",
       "    .dataframe tbody tr th:only-of-type {\n",
       "        vertical-align: middle;\n",
       "    }\n",
       "\n",
       "    .dataframe tbody tr th {\n",
       "        vertical-align: top;\n",
       "    }\n",
       "\n",
       "    .dataframe thead th {\n",
       "        text-align: right;\n",
       "    }\n",
       "</style>\n",
       "<table border=\"1\" class=\"dataframe\">\n",
       "  <thead>\n",
       "    <tr style=\"text-align: right;\">\n",
       "      <th></th>\n",
       "      <th>monthly_income</th>\n",
       "      <th>debt</th>\n",
       "      <th>dti</th>\n",
       "      <th>monthly_expenses</th>\n",
       "      <th>net_income</th>\n",
       "      <th>financial_changes</th>\n",
       "      <th>asset_value</th>\n",
       "      <th>interest_rate</th>\n",
       "      <th>collateral</th>\n",
       "      <th>old_collateral</th>\n",
       "      <th>ltv</th>\n",
       "      <th>debtor_occupation</th>\n",
       "      <th>tenor</th>\n",
       "    </tr>\n",
       "  </thead>\n",
       "  <tbody>\n",
       "    <tr>\n",
       "      <th>0</th>\n",
       "      <td>0.415866</td>\n",
       "      <td>1.740099</td>\n",
       "      <td>0.238754</td>\n",
       "      <td>-0.933627</td>\n",
       "      <td>1.445913</td>\n",
       "      <td>0.888199</td>\n",
       "      <td>1.394151</td>\n",
       "      <td>1.782538</td>\n",
       "      <td>2.772353</td>\n",
       "      <td>0.346323</td>\n",
       "      <td>-0.302387</td>\n",
       "      <td>Pengusaha</td>\n",
       "      <td>1.879163</td>\n",
       "    </tr>\n",
       "  </tbody>\n",
       "</table>\n",
       "</div>"
      ],
      "text/plain": [
       "   monthly_income      debt       dti  monthly_expenses  net_income  \\\n",
       "0        0.415866  1.740099  0.238754         -0.933627    1.445913   \n",
       "\n",
       "   financial_changes  asset_value  interest_rate  collateral  old_collateral  \\\n",
       "0           0.888199     1.394151       1.782538    2.772353        0.346323   \n",
       "\n",
       "        ltv debtor_occupation     tenor  \n",
       "0 -0.302387         Pengusaha  1.879163  "
      ]
     },
     "execution_count": 31,
     "metadata": {},
     "output_type": "execute_result"
    }
   ],
   "source": [
    "df[numerical_loan] = scaler.transform(df[numerical_loan])\n",
    "df"
   ]
  },
  {
   "cell_type": "code",
   "execution_count": 32,
   "metadata": {},
   "outputs": [
    {
     "data": {
      "text/html": [
       "<div>\n",
       "<style scoped>\n",
       "    .dataframe tbody tr th:only-of-type {\n",
       "        vertical-align: middle;\n",
       "    }\n",
       "\n",
       "    .dataframe tbody tr th {\n",
       "        vertical-align: top;\n",
       "    }\n",
       "\n",
       "    .dataframe thead th {\n",
       "        text-align: right;\n",
       "    }\n",
       "</style>\n",
       "<table border=\"1\" class=\"dataframe\">\n",
       "  <thead>\n",
       "    <tr style=\"text-align: right;\">\n",
       "      <th></th>\n",
       "      <th>monthly_income</th>\n",
       "      <th>debt</th>\n",
       "      <th>dti</th>\n",
       "      <th>monthly_expenses</th>\n",
       "      <th>net_income</th>\n",
       "      <th>financial_changes</th>\n",
       "      <th>asset_value</th>\n",
       "      <th>interest_rate</th>\n",
       "      <th>collateral</th>\n",
       "      <th>old_collateral</th>\n",
       "      <th>ltv</th>\n",
       "      <th>debtor_occupation</th>\n",
       "      <th>tenor</th>\n",
       "    </tr>\n",
       "  </thead>\n",
       "  <tbody>\n",
       "    <tr>\n",
       "      <th>0</th>\n",
       "      <td>0.415866</td>\n",
       "      <td>1.740099</td>\n",
       "      <td>0.238754</td>\n",
       "      <td>-0.933627</td>\n",
       "      <td>1.445913</td>\n",
       "      <td>0.888199</td>\n",
       "      <td>1.394151</td>\n",
       "      <td>1.782538</td>\n",
       "      <td>2.772353</td>\n",
       "      <td>0.346323</td>\n",
       "      <td>-0.302387</td>\n",
       "      <td>3.0</td>\n",
       "      <td>1.879163</td>\n",
       "    </tr>\n",
       "  </tbody>\n",
       "</table>\n",
       "</div>"
      ],
      "text/plain": [
       "   monthly_income      debt       dti  monthly_expenses  net_income  \\\n",
       "0        0.415866  1.740099  0.238754         -0.933627    1.445913   \n",
       "\n",
       "   financial_changes  asset_value  interest_rate  collateral  old_collateral  \\\n",
       "0           0.888199     1.394151       1.782538    2.772353        0.346323   \n",
       "\n",
       "        ltv  debtor_occupation     tenor  \n",
       "0 -0.302387                3.0  1.879163  "
      ]
     },
     "execution_count": 32,
     "metadata": {},
     "output_type": "execute_result"
    }
   ],
   "source": [
    "df[categorical_loan] = encoder.transform(df[categorical_loan])\n",
    "df"
   ]
  },
  {
   "cell_type": "code",
   "execution_count": 33,
   "metadata": {},
   "outputs": [
    {
     "data": {
      "text/plain": [
       "76245000.0"
      ]
     },
     "execution_count": 33,
     "metadata": {},
     "output_type": "execute_result"
    }
   ],
   "source": [
    "model.predict(df)[0]"
   ]
  },
  {
   "cell_type": "code",
   "execution_count": null,
   "metadata": {},
   "outputs": [],
   "source": []
  }
 ],
 "metadata": {
  "kernelspec": {
   "display_name": "M-Knows",
   "language": "python",
   "name": "m-knows"
  },
  "language_info": {
   "codemirror_mode": {
    "name": "ipython",
    "version": 3
   },
   "file_extension": ".py",
   "mimetype": "text/x-python",
   "name": "python",
   "nbconvert_exporter": "python",
   "pygments_lexer": "ipython3",
   "version": "3.9.2"
  },
  "orig_nbformat": 4
 },
 "nbformat": 4,
 "nbformat_minor": 2
}
